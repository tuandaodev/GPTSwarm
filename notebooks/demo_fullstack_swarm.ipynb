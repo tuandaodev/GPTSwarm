{
 "cells": [
  {
   "cell_type": "markdown",
   "metadata": {},
   "source": [
    "# Fullstack Development Swarm Demo\n",
    "\n",
    "This notebook demonstrates how to use GPTSwarm for fullstack development with Angular and .NET stack."
   ]
  },
  {
   "cell_type": "code",
   "execution_count": null,
   "metadata": {},
   "outputs": [],
   "source": [
    "from google.colab import userdata\n",
    "import os\n",
    "\n",
    "os.environ['OPENAI_API_KEY'] = userdata.get('OPENAI_API_KEY')\n",
    "!pip install -r requirements_colab.txt\n",
    "!pip install -e ."
   ]
  },
  {
   "cell_type": "markdown",
   "metadata": {},
   "source": [
    "## Initialize the Fullstack Swarm\n",
    "\n",
    "First, we'll create a swarm with three agents: system architect, frontend developer, and backend developer."
   ]
  },
  {
   "cell_type": "code",
   "execution_count": null,
   "metadata": {},
   "outputs": [],
   "source": [
    "from swarm.graph.swarm import Swarm\n",
    "\n",
    "# Initialize with mock backend for testing\n",
    "swarm = Swarm(\n",
    "    [\"system_designer\", \"angular_expert\", \"dotnet_expert\"],\n",
    "    \"fullstack\",\n",
    "    model_name='mock'\n",
    ")"
   ]
  },
  {
   "cell_type": "markdown",
   "metadata": {},
   "source": [
    "## Define a Sample Development Task\n",
    "\n",
    "Let's create a task to build a simple e-commerce product listing page."
   ]
  },
  {
   "cell_type": "code",
   "execution_count": null,
   "metadata": {},
   "outputs": [],
   "source": [
    "task = {\n",
    "    \"type\": \"fullstack_development\",\n",
    "    \"project\": \"e-commerce\",\n",
    "    \"feature\": \"product_listing\",\n",
    "    \"requirements\": {\n",
    "        \"frontend\": [\n",
    "            \"Display grid of products\",\n",
    "            \"Filter by category\",\n",
    "            \"Search functionality\",\n",
    "            \"Responsive design\"\n",
    "        ],\n",
    "        \"backend\": [\n",
    "            \"RESTful API endpoints\",\n",
    "            \"Product search\",\n",
    "            \"Category filtering\",\n",
    "            \"Pagination\"\n",
    "        ],\n",
    "        \"constraints\": [\n",
    "            \"Performance optimized\",\n",
    "            \"Cached responses\",\n",
    "            \"SEO friendly\"\n",
    "        ]\n",
    "    }\n",
    "}\n",
    "\n",
    "# Run the swarm with mock backend\n",
    "mock_result = await swarm.arun({\"task\": task})\n",
    "print(\"Mock Result:\")\n",
    "print(mock_result)"
   ]
  },
  {
   "cell_type": "markdown",
   "metadata": {},
   "source": [
    "## Run with GPT-4\n",
    "\n",
    "Now let's run the same task with GPT-4 to get actual implementation guidance."
   ]
  },
  {
   "cell_type": "code",
   "execution_count": null,
   "metadata": {},
   "outputs": [],
   "source": [
    "# Initialize with GPT-4\n",
    "swarm = Swarm(\n",
    "    [\"system_designer\", \"angular_expert\", \"dotnet_expert\"],\n",
    "    \"fullstack\",\n",
    "    model_name='gpt-4'\n",
    ")\n",
    "\n",
    "# Run the swarm\n",
    "result = await swarm.arun({\"task\": task})\n",
    "\n",
    "print(\"\\nSystem Design:\")\n",
    "print(result[\"design\"])\n",
    "\n",
    "print(\"\\nFrontend Tasks:\")\n",
    "print(result[\"frontend_tasks\"])\n",
    "\n",
    "print(\"\\nBackend Tasks:\")\n",
    "print(result[\"backend_tasks\"])\n",
    "\n",
    "print(\"\\nSync Points:\")\n",
    "print(result[\"sync_points\"])"
   ]
  },
  {
   "cell_type": "markdown",
   "metadata": {},
   "source": [
    "## Analyze the Results\n",
    "\n",
    "The swarm generates:\n",
    "1. System architecture and design decisions\n",
    "2. Concrete frontend tasks for Angular implementation\n",
    "3. Concrete backend tasks for .NET implementation\n",
    "4. Synchronization points between frontend and backend\n",
    "\n",
    "You can use these outputs to:\n",
    "- Create project structure\n",
    "- Define API contracts\n",
    "- Implement frontend components\n",
    "- Implement backend services\n",
    "- Ensure consistent data flow"
   ]
  }
 ],
 "metadata": {
  "kernelspec": {
   "display_name": "Python 3",
   "language": "python",
   "name": "python3"
  },
  "language_info": {
   "codemirror_mode": {
    "name": "ipython",
    "version": 3
   },
   "file_extension": ".py",
   "mimetype": "text/x-python",
   "name": "python",
   "nbconvert_exporter": "python",
   "pygments_lexer": "ipython3",
   "version": "3.8.0"
  }
 },
 "nbformat": 4,
 "nbformat_minor": 4
}
